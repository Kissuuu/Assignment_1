{
  "nbformat": 4,
  "nbformat_minor": 0,
  "metadata": {
    "colab": {
      "name": "AmanKhan_numpy_assignment_code_kong.ipynb",
      "provenance": [],
      "include_colab_link": true
    },
    "kernelspec": {
      "name": "python3",
      "display_name": "Python 3"
    },
    "language_info": {
      "name": "python"
    }
  },
  "cells": [
    {
      "cell_type": "markdown",
      "metadata": {
        "id": "view-in-github",
        "colab_type": "text"
      },
      "source": [
        "<a href=\"https://colab.research.google.com/github/Kissuuu/Assignment_1/blob/main/AmanKhan_numpy_assignment_code_kong.ipynb\" target=\"_parent\"><img src=\"https://colab.research.google.com/assets/colab-badge.svg\" alt=\"Open In Colab\"/></a>"
      ]
    },
    {
      "cell_type": "markdown",
      "metadata": {
        "id": "8820A7gq8d73"
      },
      "source": [
        "# Numpy assignment"
      ]
    },
    {
      "cell_type": "markdown",
      "metadata": {
        "id": "GOJm3tt48lev"
      },
      "source": [
        "## 1. Import numpy "
      ]
    },
    {
      "cell_type": "code",
      "metadata": {
        "id": "gy4YwZG58aBS"
      },
      "source": [
        "import numpy as np"
      ],
      "execution_count": null,
      "outputs": []
    },
    {
      "cell_type": "markdown",
      "metadata": {
        "id": "kXdX6fZE8qyo"
      },
      "source": [
        "## 2. Create an array of 10 zeroes"
      ]
    },
    {
      "cell_type": "code",
      "metadata": {
        "id": "KfpKzoMi8xCh",
        "colab": {
          "base_uri": "https://localhost:8080/"
        },
        "outputId": "cb17b732-ac9e-4db2-b7bc-4ea164979bed"
      },
      "source": [
        "np.zeros(10)"
      ],
      "execution_count": null,
      "outputs": [
        {
          "output_type": "execute_result",
          "data": {
            "text/plain": [
              "array([0., 0., 0., 0., 0., 0., 0., 0., 0., 0.])"
            ]
          },
          "metadata": {},
          "execution_count": 3
        }
      ]
    },
    {
      "cell_type": "markdown",
      "metadata": {
        "id": "Y99t611H8xqX"
      },
      "source": [
        "## 3. Create an array of 10 ones"
      ]
    },
    {
      "cell_type": "code",
      "metadata": {
        "id": "oTcw5FrZ83Zi",
        "colab": {
          "base_uri": "https://localhost:8080/"
        },
        "outputId": "91c85b77-e7e9-4b0b-e8f7-e371d12f9bf1"
      },
      "source": [
        "np.ones(10)"
      ],
      "execution_count": null,
      "outputs": [
        {
          "output_type": "execute_result",
          "data": {
            "text/plain": [
              "array([1., 1., 1., 1., 1., 1., 1., 1., 1., 1.])"
            ]
          },
          "metadata": {},
          "execution_count": 4
        }
      ]
    },
    {
      "cell_type": "markdown",
      "metadata": {
        "id": "h2yw4BMU83yD"
      },
      "source": [
        "## 4. Create an array of 10 fives"
      ]
    },
    {
      "cell_type": "code",
      "metadata": {
        "id": "wo5ZFyof89FS",
        "colab": {
          "base_uri": "https://localhost:8080/"
        },
        "outputId": "215d28f8-55e8-4875-c113-d70487a40cbe"
      },
      "source": [
        "np.ones(10)*5"
      ],
      "execution_count": null,
      "outputs": [
        {
          "output_type": "execute_result",
          "data": {
            "text/plain": [
              "array([5., 5., 5., 5., 5., 5., 5., 5., 5., 5.])"
            ]
          },
          "metadata": {},
          "execution_count": 5
        }
      ]
    },
    {
      "cell_type": "markdown",
      "metadata": {
        "id": "t2VTV6oV89qh"
      },
      "source": [
        "## 5. Create an array of integers from 11 to 50"
      ]
    },
    {
      "cell_type": "code",
      "metadata": {
        "id": "pgqg5u8j9M6X",
        "colab": {
          "base_uri": "https://localhost:8080/"
        },
        "outputId": "3150cd7b-f827-4972-960e-299a283cd64a"
      },
      "source": [
        "np.arange(11,51)"
      ],
      "execution_count": null,
      "outputs": [
        {
          "output_type": "execute_result",
          "data": {
            "text/plain": [
              "array([11, 12, 13, 14, 15, 16, 17, 18, 19, 20, 21, 22, 23, 24, 25, 26, 27,\n",
              "       28, 29, 30, 31, 32, 33, 34, 35, 36, 37, 38, 39, 40, 41, 42, 43, 44,\n",
              "       45, 46, 47, 48, 49, 50])"
            ]
          },
          "metadata": {},
          "execution_count": 7
        }
      ]
    },
    {
      "cell_type": "markdown",
      "metadata": {
        "id": "uA44hF0W9NVg"
      },
      "source": [
        "## 6. Create an array of all the even integers from 11 to 50"
      ]
    },
    {
      "cell_type": "code",
      "metadata": {
        "id": "lk5n3Pw_9Wip",
        "colab": {
          "base_uri": "https://localhost:8080/"
        },
        "outputId": "d8b4afc2-240a-4ed3-cc2b-0db8b2a4291c"
      },
      "source": [
        "np.arange(12,51,2)"
      ],
      "execution_count": null,
      "outputs": [
        {
          "output_type": "execute_result",
          "data": {
            "text/plain": [
              "array([12, 14, 16, 18, 20, 22, 24, 26, 28, 30, 32, 34, 36, 38, 40, 42, 44,\n",
              "       46, 48, 50])"
            ]
          },
          "metadata": {},
          "execution_count": 11
        }
      ]
    },
    {
      "cell_type": "markdown",
      "metadata": {
        "id": "4qVWaJ199W-R"
      },
      "source": [
        "## 7. Create a 3 * 3 matrices of values from range 0 to 8 "
      ]
    },
    {
      "cell_type": "code",
      "metadata": {
        "id": "rMjavPRT9iwC",
        "colab": {
          "base_uri": "https://localhost:8080/"
        },
        "outputId": "d80adec4-7277-4638-9fef-5c1f7f0b2843"
      },
      "source": [
        "x = np.arange(9).reshape(3,3)\n",
        "print(x)"
      ],
      "execution_count": null,
      "outputs": [
        {
          "output_type": "stream",
          "name": "stdout",
          "text": [
            "[[0 1 2]\n",
            " [3 4 5]\n",
            " [6 7 8]]\n"
          ]
        }
      ]
    },
    {
      "cell_type": "markdown",
      "metadata": {
        "id": "p_G5GD4x9jRZ"
      },
      "source": [
        "## Use numpy to gentrate a number randomly between 0 and 1"
      ]
    },
    {
      "cell_type": "code",
      "metadata": {
        "id": "F1igDzUc9n8x",
        "colab": {
          "base_uri": "https://localhost:8080/"
        },
        "outputId": "f64e2a20-8d7c-47e7-947a-2ec1ce61572b"
      },
      "source": [
        "np.random.rand(10)"
      ],
      "execution_count": null,
      "outputs": [
        {
          "output_type": "execute_result",
          "data": {
            "text/plain": [
              "array([0.09868628, 0.31587189, 0.07571422, 0.53564016, 0.70797003,\n",
              "       0.93753526, 0.93620363, 0.88716219, 0.9378748 , 0.73867238])"
            ]
          },
          "metadata": {},
          "execution_count": 25
        }
      ]
    },
    {
      "cell_type": "markdown",
      "metadata": {
        "id": "yz9RkN1m9oXh"
      },
      "source": [
        "## Create the following matrices"
      ]
    },
    {
      "cell_type": "markdown",
      "metadata": {
        "id": "GpBLScoS-Bos"
      },
      "source": [
        "### 20 linrarly spaced points between 0 and 2"
      ]
    },
    {
      "cell_type": "code",
      "metadata": {
        "id": "404Fc4jn97kZ",
        "colab": {
          "base_uri": "https://localhost:8080/"
        },
        "outputId": "d097e7cc-4090-401a-a4b8-0376d57368cc"
      },
      "source": [
        "np.random.randn(20)"
      ],
      "execution_count": null,
      "outputs": [
        {
          "output_type": "execute_result",
          "data": {
            "text/plain": [
              "array([ 1.04861697,  0.67088734,  0.32675311, -1.31107306, -0.0637294 ,\n",
              "        0.63806073,  0.08598878, -1.25607346,  0.51022399, -0.13453525,\n",
              "        1.89085654, -1.54601356,  0.22095706, -0.5565705 , -0.33146189,\n",
              "        0.46225044, -0.44388074, -0.77284453,  1.44216452,  0.75440604])"
            ]
          },
          "metadata": {},
          "execution_count": 26
        }
      ]
    },
    {
      "cell_type": "markdown",
      "metadata": {
        "id": "vv0pclwo-F5L"
      },
      "source": [
        "## Numpy indexing and selection"
      ]
    },
    {
      "cell_type": "code",
      "metadata": {
        "colab": {
          "base_uri": "https://localhost:8080/"
        },
        "id": "5wwSNpSd-SWp",
        "outputId": "5d1540bc-1ca1-4afa-b951-a42f85621d21"
      },
      "source": [
        "mat = np.arange(1,26).reshape(5,5)\n",
        "mat"
      ],
      "execution_count": null,
      "outputs": [
        {
          "output_type": "execute_result",
          "data": {
            "text/plain": [
              "array([[ 1,  2,  3,  4,  5],\n",
              "       [ 6,  7,  8,  9, 10],\n",
              "       [11, 12, 13, 14, 15],\n",
              "       [16, 17, 18, 19, 20],\n",
              "       [21, 22, 23, 24, 25]])"
            ]
          },
          "metadata": {},
          "execution_count": 27
        }
      ]
    },
    {
      "cell_type": "markdown",
      "metadata": {
        "id": "iTBZNmAR-tFF"
      },
      "source": [
        "Use the above matrices for the following set of questions"
      ]
    },
    {
      "cell_type": "markdown",
      "metadata": {
        "id": "IkLSFN_e-yLp"
      },
      "source": [
        "### 1. only first value of matrice mat"
      ]
    },
    {
      "cell_type": "code",
      "metadata": {
        "id": "Tf3nZ2lH-m_O",
        "colab": {
          "base_uri": "https://localhost:8080/"
        },
        "outputId": "af24e27b-7b43-4902-c2f2-85bafc96cb95"
      },
      "source": [
        "mat[0,0]"
      ],
      "execution_count": null,
      "outputs": [
        {
          "output_type": "execute_result",
          "data": {
            "text/plain": [
              "1"
            ]
          },
          "metadata": {},
          "execution_count": 28
        }
      ]
    },
    {
      "cell_type": "markdown",
      "metadata": {
        "id": "zXlls_1O-36q"
      },
      "source": [
        "### 2. middle value of matrice mat"
      ]
    },
    {
      "cell_type": "code",
      "metadata": {
        "id": "DarfuwIA-9qv",
        "colab": {
          "base_uri": "https://localhost:8080/"
        },
        "outputId": "8b5bb520-b0ed-40f2-997e-b7d00fb4517d"
      },
      "source": [
        "mat[2,2]"
      ],
      "execution_count": null,
      "outputs": [
        {
          "output_type": "execute_result",
          "data": {
            "text/plain": [
              "13"
            ]
          },
          "metadata": {},
          "execution_count": 31
        }
      ]
    },
    {
      "cell_type": "markdown",
      "metadata": {
        "id": "yHFI_eL_--OQ"
      },
      "source": [
        "### 3. first two rows and last one column values of matrice mat"
      ]
    },
    {
      "cell_type": "code",
      "metadata": {
        "id": "bfM_HR1g_DyB",
        "colab": {
          "base_uri": "https://localhost:8080/"
        },
        "outputId": "c67fd4e7-52ba-433d-86cb-13fa8a04b373"
      },
      "source": [
        "mat[:2,4:]"
      ],
      "execution_count": null,
      "outputs": [
        {
          "output_type": "execute_result",
          "data": {
            "text/plain": [
              "array([[ 5],\n",
              "       [10]])"
            ]
          },
          "metadata": {},
          "execution_count": 35
        }
      ]
    },
    {
      "cell_type": "markdown",
      "metadata": {
        "id": "rALMjOR__EMv"
      },
      "source": [
        "### 4. last row and all column values of matrice mat"
      ]
    },
    {
      "cell_type": "code",
      "metadata": {
        "id": "ZBrYW6Sg_QKH",
        "colab": {
          "base_uri": "https://localhost:8080/"
        },
        "outputId": "f75b5739-feb8-455f-ac50-06e8ffcf1e40"
      },
      "source": [
        "mat[3:]"
      ],
      "execution_count": null,
      "outputs": [
        {
          "output_type": "execute_result",
          "data": {
            "text/plain": [
              "array([[16, 17, 18, 19, 20],\n",
              "       [21, 22, 23, 24, 25]])"
            ]
          },
          "metadata": {},
          "execution_count": 36
        }
      ]
    }
  ]
}